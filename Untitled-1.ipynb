{
 "cells": [
  {
   "cell_type": "code",
   "execution_count": null,
   "metadata": {},
   "outputs": [],
   "source": [
    "import pandas as pd\n",
    "import numpy as np\n"
   ]
  },
  {
   "cell_type": "code",
   "execution_count": null,
   "metadata": {},
   "outputs": [],
   "source": [
    "import random\n",
    "lst = ['robot'] * 10\n",
    "lst += ['human'] * 10\n",
    "random.shuffle(lst)\n",
    "data = pd.DataFrame({'whoAmI':lst})\n",
    "data.head()\n",
    "\n",
    "def one_hot_convert(data):\n",
    "    keys = set(data)\n",
    "    print(keys)\n",
    "    df = pd.DataFrame()\n",
    "    for k in keys:\n",
    "        df[k] = [1 if el == k else 0 for el in data]\n",
    "    return df\n",
    "one_hot = one_hot_convert(data['whoAmI'])\n",
    "print(data.join(one_hot))"
   ]
  }
 ],
 "metadata": {
  "kernelspec": {
   "display_name": "Python 3",
   "language": "python",
   "name": "python3"
  },
  "language_info": {
   "codemirror_mode": {
    "name": "ipython",
    "version": 3
   },
   "file_extension": ".py",
   "mimetype": "text/x-python",
   "name": "python",
   "nbconvert_exporter": "python",
   "pygments_lexer": "ipython3",
   "version": "3.12.3"
  }
 },
 "nbformat": 4,
 "nbformat_minor": 2
}
